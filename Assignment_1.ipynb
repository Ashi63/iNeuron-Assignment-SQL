{
 "cells": [
  {
   "cell_type": "markdown",
   "id": "6ba12156",
   "metadata": {},
   "source": [
    "### Q-1. Write an SQL query to fetch “FIRST_NAME” from Worker table using the alias name as WORKER_NAME."
   ]
  },
  {
   "cell_type": "markdown",
   "id": "d6f0b335",
   "metadata": {},
   "source": [
    "SELECT FIRST_NAME AS WORKER_NAME\n",
    "FROM Worker;\n"
   ]
  },
  {
   "cell_type": "markdown",
   "id": "83ec032e",
   "metadata": {},
   "source": [
    "### Q-2. Write an SQL query to fetch unique values of DEPARTMENT from Worker table."
   ]
  },
  {
   "cell_type": "markdown",
   "id": "4a4eb626",
   "metadata": {},
   "source": [
    "SELECT DISTINCT DEPARTMENT\n",
    "FROM Worker;\n"
   ]
  },
  {
   "cell_type": "markdown",
   "id": "7d0f8813",
   "metadata": {},
   "source": [
    "### Q-3. Write an SQL query to show the last 5 record from a table."
   ]
  },
  {
   "cell_type": "markdown",
   "id": "0d64b515",
   "metadata": {},
   "source": [
    "SELECT *\n",
    "FROM table_name\n",
    "ORDER BY primary_key_column DESC\n",
    "LIMIT 5;\n"
   ]
  },
  {
   "cell_type": "code",
   "execution_count": null,
   "id": "25cbc83d",
   "metadata": {},
   "outputs": [],
   "source": []
  }
 ],
 "metadata": {
  "kernelspec": {
   "display_name": "Python 3 (ipykernel)",
   "language": "python",
   "name": "python3"
  },
  "language_info": {
   "codemirror_mode": {
    "name": "ipython",
    "version": 3
   },
   "file_extension": ".py",
   "mimetype": "text/x-python",
   "name": "python",
   "nbconvert_exporter": "python",
   "pygments_lexer": "ipython3",
   "version": "3.9.13"
  }
 },
 "nbformat": 4,
 "nbformat_minor": 5
}
