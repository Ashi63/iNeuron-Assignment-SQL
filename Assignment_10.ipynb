{
 "cells": [
  {
   "cell_type": "markdown",
   "id": "2adb63bc",
   "metadata": {},
   "source": [
    "### Q-19. Write an SQL query to determine the 5th highest salary without using TOP or limit method."
   ]
  },
  {
   "cell_type": "markdown",
   "id": "f7bd6c5d",
   "metadata": {},
   "source": [
    "SELECT salary\n",
    "FROM (\n",
    "  SELECT salary, ROW_NUMBER() OVER (ORDER BY salary DESC) AS row_num\n",
    "  FROM table_name\n",
    ") AS salaries\n",
    "WHERE row_num = 5;\n"
   ]
  },
  {
   "cell_type": "markdown",
   "id": "df5641f1",
   "metadata": {},
   "source": [
    "### Q-20. Write an SQL query to fetch the list of employees with the same salary."
   ]
  },
  {
   "cell_type": "markdown",
   "id": "643bc87a",
   "metadata": {},
   "source": [
    "SELECT salary, GROUP_CONCAT(employee_name) AS employees\n",
    "FROM employees\n",
    "GROUP BY salary\n",
    "HAVING COUNT(*) > 1;\n"
   ]
  }
 ],
 "metadata": {
  "kernelspec": {
   "display_name": "Python 3 (ipykernel)",
   "language": "python",
   "name": "python3"
  },
  "language_info": {
   "codemirror_mode": {
    "name": "ipython",
    "version": 3
   },
   "file_extension": ".py",
   "mimetype": "text/x-python",
   "name": "python",
   "nbconvert_exporter": "python",
   "pygments_lexer": "ipython3",
   "version": "3.9.13"
  }
 },
 "nbformat": 4,
 "nbformat_minor": 5
}
