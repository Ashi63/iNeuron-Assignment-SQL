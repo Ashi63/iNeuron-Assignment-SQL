{
 "cells": [
  {
   "cell_type": "markdown",
   "id": "734f0e86",
   "metadata": {},
   "source": [
    "### Q-1. Write an SQL query to print the first three characters of  FIRST_NAME from Worker table.\n"
   ]
  },
  {
   "cell_type": "markdown",
   "id": "a3636695",
   "metadata": {},
   "source": [
    "SELECT SUBSTRING(FIRST_NAME, 1, 3) AS FIRST_THREE_CHARS\n",
    "FROM Worker;\n"
   ]
  },
  {
   "cell_type": "markdown",
   "id": "540643ea",
   "metadata": {},
   "source": [
    "### Q-2. Write an SQL query to find the position of the alphabet (‘a’) in the first name column ‘Amitabh’ from Worker table.\n"
   ]
  },
  {
   "cell_type": "markdown",
   "id": "a0712da4",
   "metadata": {},
   "source": [
    "SELECT POSITION('a' IN FIRST_NAME) AS POSITION_OF_A\n",
    "FROM Worker\n",
    "WHERE FIRST_NAME = 'Amitabh';\n"
   ]
  },
  {
   "cell_type": "markdown",
   "id": "c15f4a85",
   "metadata": {},
   "source": [
    "### Q-3. Write an SQL query to print the name of employees having the highest salary in each department.\n"
   ]
  },
  {
   "cell_type": "markdown",
   "id": "3d411bfd",
   "metadata": {},
   "source": [
    "SELECT Department, MAX(Salary) AS Highest_Salary, GROUP_CONCAT(FIRST_NAME) AS Employees_With_Highest_Salary\n",
    "FROM Worker\n",
    "GROUP BY Department\n",
    "HAVING Highest_Salary > 0;\n"
   ]
  }
 ],
 "metadata": {
  "kernelspec": {
   "display_name": "Python 3 (ipykernel)",
   "language": "python",
   "name": "python3"
  },
  "language_info": {
   "codemirror_mode": {
    "name": "ipython",
    "version": 3
   },
   "file_extension": ".py",
   "mimetype": "text/x-python",
   "name": "python",
   "nbconvert_exporter": "python",
   "pygments_lexer": "ipython3",
   "version": "3.9.13"
  }
 },
 "nbformat": 4,
 "nbformat_minor": 5
}
