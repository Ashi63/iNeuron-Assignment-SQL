{
 "cells": [
  {
   "cell_type": "markdown",
   "id": "652a6874",
   "metadata": {},
   "source": [
    "### Q-1. Write an SQL query to print the FIRST_NAME from Worker table after removing white spaces from the right side.\n",
    "\n"
   ]
  },
  {
   "cell_type": "markdown",
   "id": "a077f448",
   "metadata": {},
   "source": [
    "SELECT RTRIM(FIRST_NAME) AS FIRST_NAME_WITHOUT_WHITESPACES\n",
    "FROM Worker;\n"
   ]
  },
  {
   "cell_type": "markdown",
   "id": "6cf1d8a8",
   "metadata": {},
   "source": [
    "### Q-2. Write an SQL query that fetches the unique values of DEPARTMENT from Worker table and prints its length.\n"
   ]
  },
  {
   "cell_type": "markdown",
   "id": "335e79e3",
   "metadata": {},
   "source": [
    "SELECT DISTINCT DEPARTMENT, LENGTH(DEPARTMENT) AS DEPARTMENT_LENGTH\n",
    "FROM Worker;\n"
   ]
  },
  {
   "cell_type": "markdown",
   "id": "e5b9b180",
   "metadata": {},
   "source": [
    "### Q-3. Write an SQL query to fetch nth max salaries from a table."
   ]
  },
  {
   "cell_type": "markdown",
   "id": "e1251f99",
   "metadata": {},
   "source": [
    "SELECT DISTINCT Salary\n",
    "FROM Worker w1\n",
    "WHERE n-1 = (\n",
    "  SELECT COUNT(DISTINCT w2.Salary)\n",
    "  FROM Worker w2\n",
    "  WHERE w2.Salary > w1.Salary\n",
    ");\n"
   ]
  },
  {
   "cell_type": "code",
   "execution_count": null,
   "id": "bc4e7c73",
   "metadata": {},
   "outputs": [],
   "source": []
  }
 ],
 "metadata": {
  "kernelspec": {
   "display_name": "Python 3 (ipykernel)",
   "language": "python",
   "name": "python3"
  },
  "language_info": {
   "codemirror_mode": {
    "name": "ipython",
    "version": 3
   },
   "file_extension": ".py",
   "mimetype": "text/x-python",
   "name": "python",
   "nbconvert_exporter": "python",
   "pygments_lexer": "ipython3",
   "version": "3.9.13"
  }
 },
 "nbformat": 4,
 "nbformat_minor": 5
}
