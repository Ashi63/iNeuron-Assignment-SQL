{
 "cells": [
  {
   "cell_type": "markdown",
   "id": "75cca632",
   "metadata": {},
   "source": [
    "### Q-1. Write an SQL query to print the FIRST_NAME from Worker table after replacing ‘a’ with ‘A’.\n"
   ]
  },
  {
   "cell_type": "markdown",
   "id": "c84683da",
   "metadata": {},
   "source": [
    "SELECT REPLACE(FIRST_NAME, 'a', 'A') AS FIRST_NAME_WITH_REPLACED_A\n",
    "FROM Worker;\n"
   ]
  },
  {
   "cell_type": "markdown",
   "id": "33c0f8b8",
   "metadata": {},
   "source": [
    "### Q-2. Write an SQL query to print all Worker details from the Worker table order by FIRST_NAME Ascending and DEPARTMENT Descending.\n"
   ]
  },
  {
   "cell_type": "markdown",
   "id": "19fd532d",
   "metadata": {},
   "source": [
    "SELECT *\n",
    "FROM Worker\n",
    "ORDER BY FIRST_NAME ASC, DEPARTMENT DESC;\n"
   ]
  },
  {
   "cell_type": "markdown",
   "id": "dd8abdf5",
   "metadata": {},
   "source": [
    "### Q-3. Write an SQL query to fetch the names of workers who earn the highest salary.\n"
   ]
  },
  {
   "cell_type": "markdown",
   "id": "4866db41",
   "metadata": {},
   "source": [
    "SELECT FIRST_NAME, LAST_NAME\n",
    "FROM Worker\n",
    "WHERE Salary = (SELECT MAX(Salary) FROM Worker);\n"
   ]
  }
 ],
 "metadata": {
  "kernelspec": {
   "display_name": "Python 3 (ipykernel)",
   "language": "python",
   "name": "python3"
  },
  "language_info": {
   "codemirror_mode": {
    "name": "ipython",
    "version": 3
   },
   "file_extension": ".py",
   "mimetype": "text/x-python",
   "name": "python",
   "nbconvert_exporter": "python",
   "pygments_lexer": "ipython3",
   "version": "3.9.13"
  }
 },
 "nbformat": 4,
 "nbformat_minor": 5
}
