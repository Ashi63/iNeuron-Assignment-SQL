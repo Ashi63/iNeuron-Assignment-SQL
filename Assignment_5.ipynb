{
 "cells": [
  {
   "cell_type": "markdown",
   "id": "de0dca4c",
   "metadata": {},
   "source": [
    "### Q-1. Write an SQL query to print details of workers excluding first names, “Vipul” and “Satish” from Worker table.\n",
    "\n"
   ]
  },
  {
   "cell_type": "markdown",
   "id": "65c08ea8",
   "metadata": {},
   "source": [
    "SELECT *\n",
    "FROM Worker\n",
    "WHERE FIRST_NAME NOT IN ('Vipul', 'Satish');\n"
   ]
  },
  {
   "cell_type": "markdown",
   "id": "a2b8bab8",
   "metadata": {},
   "source": [
    "### Q-2. Write an SQL query to print details of the Workers whose FIRST_NAME ends with ‘h’ and contains six alphabets.\n"
   ]
  },
  {
   "cell_type": "markdown",
   "id": "946b8442",
   "metadata": {},
   "source": [
    "SELECT *\n",
    "FROM Worker\n",
    "WHERE LENGTH(FIRST_NAME) = 6 AND RIGHT(FIRST_NAME, 1) = 'h';\n"
   ]
  },
  {
   "cell_type": "markdown",
   "id": "f8ebcef7",
   "metadata": {},
   "source": [
    "### Q-3. Write a query to validate Email of Employee."
   ]
  },
  {
   "cell_type": "markdown",
   "id": "078a9e36",
   "metadata": {},
   "source": [
    "SELECT *\n",
    "FROM Employee\n",
    "WHERE Email REGEXP '^[a-zA-Z0-9._%+-]+@[a-zA-Z0-9.-]+\\.[a-zA-Z\n"
   ]
  }
 ],
 "metadata": {
  "kernelspec": {
   "display_name": "Python 3 (ipykernel)",
   "language": "python",
   "name": "python3"
  },
  "language_info": {
   "codemirror_mode": {
    "name": "ipython",
    "version": 3
   },
   "file_extension": ".py",
   "mimetype": "text/x-python",
   "name": "python",
   "nbconvert_exporter": "python",
   "pygments_lexer": "ipython3",
   "version": "3.9.13"
  }
 },
 "nbformat": 4,
 "nbformat_minor": 5
}
