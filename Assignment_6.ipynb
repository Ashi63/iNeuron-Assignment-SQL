{
 "cells": [
  {
   "cell_type": "markdown",
   "id": "93b58f8f",
   "metadata": {},
   "source": [
    "### Q-1. Write an SQL query to print details of the Workers who have joined in Feb’2014.\n",
    "\n"
   ]
  },
  {
   "cell_type": "markdown",
   "id": "17f35336",
   "metadata": {},
   "source": [
    "SELECT *\n",
    "FROM Worker\n",
    "WHERE MONTH(JOIN_DATE) = 2 AND YEAR(JOIN_DATE) = 2014;\n"
   ]
  },
  {
   "cell_type": "markdown",
   "id": "140b5e5d",
   "metadata": {},
   "source": [
    "### Q-2. Write an SQL query to fetch duplicate records having matching data in some fields of a table.\n"
   ]
  },
  {
   "cell_type": "markdown",
   "id": "bdc89938",
   "metadata": {},
   "source": [
    "SELECT *\n",
    "FROM table_name\n",
    "WHERE (column1, column2, column3) IN (\n",
    "    SELECT column1, column2, column3\n",
    "    FROM table_name\n",
    "    GROUP BY column1, column2, column3\n",
    "    HAVING COUNT(*) > 1\n",
    ");\n"
   ]
  },
  {
   "cell_type": "markdown",
   "id": "9a8c9c1b",
   "metadata": {},
   "source": [
    "### Q-3. How to remove duplicate rows from Employees table."
   ]
  },
  {
   "cell_type": "markdown",
   "id": "adfffd47",
   "metadata": {},
   "source": [
    "CREATE TABLE Employees_New AS\n",
    "SELECT DISTINCT *\n",
    "FROM Employees;\n"
   ]
  }
 ],
 "metadata": {
  "kernelspec": {
   "display_name": "Python 3 (ipykernel)",
   "language": "python",
   "name": "python3"
  },
  "language_info": {
   "codemirror_mode": {
    "name": "ipython",
    "version": 3
   },
   "file_extension": ".py",
   "mimetype": "text/x-python",
   "name": "python",
   "nbconvert_exporter": "python",
   "pygments_lexer": "ipython3",
   "version": "3.9.13"
  }
 },
 "nbformat": 4,
 "nbformat_minor": 5
}
