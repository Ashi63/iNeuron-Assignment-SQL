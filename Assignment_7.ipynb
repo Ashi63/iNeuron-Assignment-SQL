{
 "cells": [
  {
   "cell_type": "markdown",
   "id": "ca41b123",
   "metadata": {},
   "source": [
    "### Q-13. Write an SQL query to show only odd rows from a table.\n",
    "\n"
   ]
  },
  {
   "cell_type": "markdown",
   "id": "5323c43a",
   "metadata": {},
   "source": [
    "SELECT *\n",
    "FROM (\n",
    "    SELECT *, ROW_NUMBER() OVER (ORDER BY id) AS row_num\n",
    "    FROM your_table_name\n",
    ") subquery\n",
    "WHERE row_num % 2 = 1;\n"
   ]
  },
  {
   "cell_type": "markdown",
   "id": "7d5663e1",
   "metadata": {},
   "source": [
    "### Q-14. Write an SQL query to clone a new table from another table."
   ]
  },
  {
   "cell_type": "markdown",
   "id": "2d9556fb",
   "metadata": {},
   "source": [
    "CREATE TABLE new_table_name AS\n",
    "SELECT *\n",
    "FROM original_table_name;\n"
   ]
  }
 ],
 "metadata": {
  "kernelspec": {
   "display_name": "Python 3 (ipykernel)",
   "language": "python",
   "name": "python3"
  },
  "language_info": {
   "codemirror_mode": {
    "name": "ipython",
    "version": 3
   },
   "file_extension": ".py",
   "mimetype": "text/x-python",
   "name": "python",
   "nbconvert_exporter": "python",
   "pygments_lexer": "ipython3",
   "version": "3.9.13"
  }
 },
 "nbformat": 4,
 "nbformat_minor": 5
}
