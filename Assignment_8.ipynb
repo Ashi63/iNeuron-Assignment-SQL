{
 "cells": [
  {
   "cell_type": "markdown",
   "id": "eba68678",
   "metadata": {},
   "source": [
    "### Q-15. Write an SQL query to fetch intersecting records of two tables.\n",
    "\n"
   ]
  },
  {
   "cell_type": "markdown",
   "id": "f739bdaa",
   "metadata": {},
   "source": [
    "SELECT *\n",
    "FROM table1\n",
    "INTERSECT\n",
    "SELECT *\n",
    "FROM table2;\n"
   ]
  },
  {
   "cell_type": "markdown",
   "id": "755121ea",
   "metadata": {},
   "source": [
    "### Q-16. Write an SQL query to show records from one table that another table does not have."
   ]
  },
  {
   "cell_type": "markdown",
   "id": "e4b05b8a",
   "metadata": {},
   "source": [
    "SELECT *\n",
    "FROM table1\n",
    "WHERE NOT EXISTS (\n",
    "  SELECT *\n",
    "  FROM table2\n",
    "  WHERE table1.column = table2.column\n",
    ");\n"
   ]
  }
 ],
 "metadata": {
  "kernelspec": {
   "display_name": "Python 3 (ipykernel)",
   "language": "python",
   "name": "python3"
  },
  "language_info": {
   "codemirror_mode": {
    "name": "ipython",
    "version": 3
   },
   "file_extension": ".py",
   "mimetype": "text/x-python",
   "name": "python",
   "nbconvert_exporter": "python",
   "pygments_lexer": "ipython3",
   "version": "3.9.13"
  }
 },
 "nbformat": 4,
 "nbformat_minor": 5
}
