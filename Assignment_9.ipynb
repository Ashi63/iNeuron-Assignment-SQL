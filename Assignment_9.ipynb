{
 "cells": [
  {
   "cell_type": "markdown",
   "id": "686d5295",
   "metadata": {},
   "source": [
    "### Q-17.  Write an SQL query to show the top n (say 10) records of a table.\n"
   ]
  },
  {
   "cell_type": "markdown",
   "id": "d58ed640",
   "metadata": {},
   "source": [
    "SELECT *\n",
    "FROM table_name\n",
    "LIMIT 10;\n"
   ]
  },
  {
   "cell_type": "markdown",
   "id": "b32d9a97",
   "metadata": {},
   "source": [
    "### Q-18. Write an SQL query to determine the nth (say n=5) highest salary from a table.\n"
   ]
  },
  {
   "cell_type": "markdown",
   "id": "7ab6ce9e",
   "metadata": {},
   "source": [
    "SELECT DISTINCT salary\n",
    "FROM table_name\n",
    "ORDER BY salary DESC\n",
    "LIMIT 1 OFFSET 4;\n"
   ]
  }
 ],
 "metadata": {
  "kernelspec": {
   "display_name": "Python 3 (ipykernel)",
   "language": "python",
   "name": "python3"
  },
  "language_info": {
   "codemirror_mode": {
    "name": "ipython",
    "version": 3
   },
   "file_extension": ".py",
   "mimetype": "text/x-python",
   "name": "python",
   "nbconvert_exporter": "python",
   "pygments_lexer": "ipython3",
   "version": "3.9.13"
  }
 },
 "nbformat": 4,
 "nbformat_minor": 5
}
